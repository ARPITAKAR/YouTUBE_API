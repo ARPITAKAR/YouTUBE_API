{
 "cells": [
  {
   "cell_type": "code",
   "execution_count": 1,
   "id": "28ca6f3b",
   "metadata": {},
   "outputs": [
    {
     "name": "stdout",
     "output_type": "stream",
     "text": [
      "Defaulting to user installation because normal site-packages is not writeable\n",
      "Requirement already satisfied: psycopg2 in c:\\users\\arpit akar\\appdata\\roaming\\python\\python39\\site-packages (2.9.5)\n"
     ]
    }
   ],
   "source": [
    "!pip install psycopg2\n",
    "import pandas as pd\n",
    "import psycopg2 as ps"
   ]
  },
  {
   "cell_type": "code",
   "execution_count": 2,
   "id": "ffa35d45",
   "metadata": {
    "scrolled": true
   },
   "outputs": [
    {
     "data": {
      "text/html": [
       "<div>\n",
       "<style scoped>\n",
       "    .dataframe tbody tr th:only-of-type {\n",
       "        vertical-align: middle;\n",
       "    }\n",
       "\n",
       "    .dataframe tbody tr th {\n",
       "        vertical-align: top;\n",
       "    }\n",
       "\n",
       "    .dataframe thead th {\n",
       "        text-align: right;\n",
       "    }\n",
       "</style>\n",
       "<table border=\"1\" class=\"dataframe\">\n",
       "  <thead>\n",
       "    <tr style=\"text-align: right;\">\n",
       "      <th></th>\n",
       "      <th>video_id</th>\n",
       "      <th>like_count</th>\n",
       "      <th>upload_date</th>\n",
       "      <th>comment_count</th>\n",
       "      <th>video_title</th>\n",
       "      <th>favourite_count</th>\n",
       "      <th>view_count</th>\n",
       "      <th>favorite_count</th>\n",
       "    </tr>\n",
       "  </thead>\n",
       "  <tbody>\n",
       "    <tr>\n",
       "      <th>0</th>\n",
       "      <td>0T-fsA-GNMI</td>\n",
       "      <td>0</td>\n",
       "      <td>2021-09-09</td>\n",
       "      <td>NaN</td>\n",
       "      <td>The cutest lite version of tiger cub😁😁</td>\n",
       "      <td>NaN</td>\n",
       "      <td>0</td>\n",
       "      <td>0</td>\n",
       "    </tr>\n",
       "    <tr>\n",
       "      <th>1</th>\n",
       "      <td>4xOmMN03lq4</td>\n",
       "      <td>0</td>\n",
       "      <td>2021-09-09</td>\n",
       "      <td>NaN</td>\n",
       "      <td>9 September 2021</td>\n",
       "      <td>NaN</td>\n",
       "      <td>3</td>\n",
       "      <td>0</td>\n",
       "    </tr>\n",
       "    <tr>\n",
       "      <th>2</th>\n",
       "      <td>1LbiYA_2lEg</td>\n",
       "      <td>2</td>\n",
       "      <td>2020-08-04</td>\n",
       "      <td>NaN</td>\n",
       "      <td>ROYAL Enfield best silencer</td>\n",
       "      <td>NaN</td>\n",
       "      <td>6</td>\n",
       "      <td>0</td>\n",
       "    </tr>\n",
       "    <tr>\n",
       "      <th>3</th>\n",
       "      <td>2jFwtWYsFqA</td>\n",
       "      <td>0</td>\n",
       "      <td>2020-08-04</td>\n",
       "      <td>NaN</td>\n",
       "      <td>Cute Puppy pulling out small tree</td>\n",
       "      <td>NaN</td>\n",
       "      <td>2</td>\n",
       "      <td>0</td>\n",
       "    </tr>\n",
       "    <tr>\n",
       "      <th>4</th>\n",
       "      <td>-dFD3O7TIIo</td>\n",
       "      <td>0</td>\n",
       "      <td>2020-08-04</td>\n",
       "      <td>NaN</td>\n",
       "      <td>Pedigree love</td>\n",
       "      <td>NaN</td>\n",
       "      <td>2</td>\n",
       "      <td>0</td>\n",
       "    </tr>\n",
       "  </tbody>\n",
       "</table>\n",
       "</div>"
      ],
      "text/plain": [
       "      video_id  like_count upload_date  comment_count  \\\n",
       "0  0T-fsA-GNMI           0  2021-09-09            NaN   \n",
       "1  4xOmMN03lq4           0  2021-09-09            NaN   \n",
       "2  1LbiYA_2lEg           2  2020-08-04            NaN   \n",
       "3  2jFwtWYsFqA           0  2020-08-04            NaN   \n",
       "4  -dFD3O7TIIo           0  2020-08-04            NaN   \n",
       "\n",
       "                              video_title  favourite_count  view_count  \\\n",
       "0  The cutest lite version of tiger cub😁😁              NaN           0   \n",
       "1                        9 September 2021              NaN           3   \n",
       "2             ROYAL Enfield best silencer              NaN           6   \n",
       "3       Cute Puppy pulling out small tree              NaN           2   \n",
       "4                           Pedigree love              NaN           2   \n",
       "\n",
       "   favorite_count  \n",
       "0               0  \n",
       "1               0  \n",
       "2               0  \n",
       "3               0  \n",
       "4               0  "
      ]
     },
     "execution_count": 2,
     "metadata": {},
     "output_type": "execute_result"
    }
   ],
   "source": [
    "df=pd.read_csv(r\"C://Users//Arpit Akar//Downloads//toutube.csv\")\n",
    "df.head()"
   ]
  },
  {
   "cell_type": "code",
   "execution_count": null,
   "id": "289b202d",
   "metadata": {},
   "outputs": [],
   "source": [
    "host_name=\n",
    "dbname=\n",
    "port=\n",
    "username=\n",
    "password=\n",
    "conn=None\n",
    "conn=connect_to_db(host_name,dbname,port,username,password)"
   ]
  },
  {
   "cell_type": "code",
   "execution_count": null,
   "id": "d9cd68bd",
   "metadata": {},
   "outputs": [],
   "source": [
    "def connect_to_db(host_name,dbname,port,username,password):\n",
    "    try:\n",
    "        conn=ps.connect(host=host_name,database=dbname,user=username,password=password,port=port)\n",
    "    except ps.operationalError as e:\n",
    "        raise e\n",
    "    else:\n",
    "        print('connceted')\n",
    "    return conn"
   ]
  },
  {
   "cell_type": "code",
   "execution_count": 4,
   "id": "b74d2d9d",
   "metadata": {
    "scrolled": true
   },
   "outputs": [
    {
     "data": {
      "text/html": [
       "<div>\n",
       "<style scoped>\n",
       "    .dataframe tbody tr th:only-of-type {\n",
       "        vertical-align: middle;\n",
       "    }\n",
       "\n",
       "    .dataframe tbody tr th {\n",
       "        vertical-align: top;\n",
       "    }\n",
       "\n",
       "    .dataframe thead th {\n",
       "        text-align: right;\n",
       "    }\n",
       "</style>\n",
       "<table border=\"1\" class=\"dataframe\">\n",
       "  <thead>\n",
       "    <tr style=\"text-align: right;\">\n",
       "      <th></th>\n",
       "      <th>video_id</th>\n",
       "      <th>like_count</th>\n",
       "      <th>upload_date</th>\n",
       "      <th>comment_count</th>\n",
       "      <th>video_title</th>\n",
       "      <th>favourite_count</th>\n",
       "      <th>view_count</th>\n",
       "      <th>favorite_count</th>\n",
       "    </tr>\n",
       "  </thead>\n",
       "  <tbody>\n",
       "    <tr>\n",
       "      <th>0</th>\n",
       "      <td>0T-fsA-GNMI</td>\n",
       "      <td>0</td>\n",
       "      <td>2021-09-09</td>\n",
       "      <td>NaN</td>\n",
       "      <td>The cutest lite version of tiger cub😁😁</td>\n",
       "      <td>NaN</td>\n",
       "      <td>0</td>\n",
       "      <td>0</td>\n",
       "    </tr>\n",
       "    <tr>\n",
       "      <th>1</th>\n",
       "      <td>4xOmMN03lq4</td>\n",
       "      <td>0</td>\n",
       "      <td>2021-09-09</td>\n",
       "      <td>NaN</td>\n",
       "      <td>9 September 2021</td>\n",
       "      <td>NaN</td>\n",
       "      <td>3</td>\n",
       "      <td>0</td>\n",
       "    </tr>\n",
       "    <tr>\n",
       "      <th>2</th>\n",
       "      <td>1LbiYA_2lEg</td>\n",
       "      <td>2</td>\n",
       "      <td>2020-08-04</td>\n",
       "      <td>NaN</td>\n",
       "      <td>ROYAL Enfield best silencer</td>\n",
       "      <td>NaN</td>\n",
       "      <td>6</td>\n",
       "      <td>0</td>\n",
       "    </tr>\n",
       "    <tr>\n",
       "      <th>3</th>\n",
       "      <td>2jFwtWYsFqA</td>\n",
       "      <td>0</td>\n",
       "      <td>2020-08-04</td>\n",
       "      <td>NaN</td>\n",
       "      <td>Cute Puppy pulling out small tree</td>\n",
       "      <td>NaN</td>\n",
       "      <td>2</td>\n",
       "      <td>0</td>\n",
       "    </tr>\n",
       "    <tr>\n",
       "      <th>4</th>\n",
       "      <td>-dFD3O7TIIo</td>\n",
       "      <td>0</td>\n",
       "      <td>2020-08-04</td>\n",
       "      <td>NaN</td>\n",
       "      <td>Pedigree love</td>\n",
       "      <td>NaN</td>\n",
       "      <td>2</td>\n",
       "      <td>0</td>\n",
       "    </tr>\n",
       "  </tbody>\n",
       "</table>\n",
       "</div>"
      ],
      "text/plain": [
       "      video_id  like_count upload_date  comment_count  \\\n",
       "0  0T-fsA-GNMI           0  2021-09-09            NaN   \n",
       "1  4xOmMN03lq4           0  2021-09-09            NaN   \n",
       "2  1LbiYA_2lEg           2  2020-08-04            NaN   \n",
       "3  2jFwtWYsFqA           0  2020-08-04            NaN   \n",
       "4  -dFD3O7TIIo           0  2020-08-04            NaN   \n",
       "\n",
       "                              video_title  favourite_count  view_count  \\\n",
       "0  The cutest lite version of tiger cub😁😁              NaN           0   \n",
       "1                        9 September 2021              NaN           3   \n",
       "2             ROYAL Enfield best silencer              NaN           6   \n",
       "3       Cute Puppy pulling out small tree              NaN           2   \n",
       "4                           Pedigree love              NaN           2   \n",
       "\n",
       "   favorite_count  \n",
       "0               0  \n",
       "1               0  \n",
       "2               0  \n",
       "3               0  \n",
       "4               0  "
      ]
     },
     "execution_count": 4,
     "metadata": {},
     "output_type": "execute_result"
    }
   ],
   "source": [
    "df=pd.read_csv(r\"C://Users//Arpit Akar//Downloads//toutube.csv\")\n",
    "df.head()"
   ]
  },
  {
   "cell_type": "code",
   "execution_count": null,
   "id": "4a260fd9",
   "metadata": {},
   "outputs": [],
   "source": [
    "# create table regualr sql coomand to push this command from python /\n",
    "#notebook to sql database  and then exceute to run this command in sql /\n",
    "#database"
   ]
  },
  {
   "cell_type": "code",
   "execution_count": null,
   "id": "a87ad297",
   "metadata": {},
   "outputs": [],
   "source": [
    "# the cursor command allow us to run sql command and fetch results from the /\n",
    "#  database so it basically allows python code to run sql command in our datbase/\n",
    "# section\n",
    "curr=conn.cursor()"
   ]
  },
  {
   "cell_type": "code",
   "execution_count": null,
   "id": "9a90e616",
   "metadata": {},
   "outputs": [],
   "source": [
    "#create table\n",
    "def create_table(curr):\n",
    "    create_table_command=(\"\"\" CREATE TABLE IF NOT EXISTS videos(\n",
    "    video_id varchar(255) priamry key,\n",
    "    video_title text not null,\n",
    "    update_date DATE not null default current_date,\n",
    "    view_count integar not null,\n",
    "    favourite_count integar not null,\n",
    "    comment_count integar not null)\"\"\")\n",
    "    curr.execute(create_table_command) "
   ]
  },
  {
   "cell_type": "code",
   "execution_count": null,
   "id": "c2ef022c",
   "metadata": {},
   "outputs": [],
   "source": [
    "# check if video exists\n",
    "def check_if_video_exists(curr,(video_id)):\n",
    "    query=(\"\"\"select video_id from videos where video_id=%s\"\"\")\n",
    "#%s will be coming from pandas df  going row by row\n",
    "    curr.execute(query,(video_id))\n",
    "# we are passing here variable query and video_id also as a tuple/\n",
    "#from %s\n",
    "    return cuur.fetchone() is not None \n",
    "#it return single row if videos is found with this video_id /\n",
    "#it will return the row or else return none"
   ]
  },
  {
   "cell_type": "code",
   "execution_count": null,
   "id": "409700ce",
   "metadata": {},
   "outputs": [],
   "source": [
    "#updating the database\n",
    "#handaling data for scalability\n",
    "def update_db(curr,df):    \n",
    "    tmp_df=pd.DataFrame(columns=['video_id','video_title','upload_date','comment_count','video_title','favourite_count','comment_count'])\n",
    "    #check to see if video exist\n",
    "    # iterows gives index and row itself so for update row curr and rows is provided\n",
    "    for i,row in df.iterrows():\n",
    "        if check_if_video_exists(curr,video_id):#if we already exist then we will update\n",
    "            update_row(curr,row['video_id'],row['video_title'],row['view_count'],row['like_count'],row['favourite_count'],row['comment_count']  )\n",
    "        else: # the video doesn't exists so we will append to the table\n",
    "            tmp_df=tmp_df.append(row)\n",
    "    return tmp_df"
   ]
  },
  {
   "cell_type": "code",
   "execution_count": null,
   "id": "d709a1c8",
   "metadata": {},
   "outputs": [],
   "source": [
    "create_table(curr)\n",
    "conn.commit()"
   ]
  },
  {
   "cell_type": "code",
   "execution_count": null,
   "id": "bccf3554",
   "metadata": {},
   "outputs": [],
   "source": [
    "# push  table rows into the sql  1. rows that are necer updated once the  make /\n",
    "# it to the database like bankpassbo0k 2.continious updation\n",
    "#perform update on existing videos\n",
    "#perform an insert on new videos"
   ]
  },
  {
   "cell_type": "code",
   "execution_count": null,
   "id": "4a788326",
   "metadata": {},
   "outputs": [],
   "source": [
    "def update_row(curr,video_id,video_title,view_count,like_count,favourite_count,comment_count):\n",
    "    query= ( \"\"\" UPDATE videos\n",
    "            SET video_title=%s,\n",
    "            view_count=%s,\n",
    "            like_count=%s,\n",
    "            favourite_count=%s,\n",
    "            comment_count=%s\n",
    "        where video_id=%s;\"\"\")\n",
    "    vars_to_update=(video_title,view_count,like_count,favourite_count,comment_count,video_id)\n",
    "    # vars_to_update has all the parameters of pandas df\n",
    "    #cursor is given with query and pandas column as df\n",
    "    curr.execute(query,vars_to_update)"
   ]
  },
  {
   "cell_type": "code",
   "execution_count": null,
   "id": "f9f152db",
   "metadata": {},
   "outputs": [],
   "source": [
    "#write insert command\n",
    "def insert_into_table(curr,video_id,video_title,upload_date,view_count,like_count,favourite_count,comment_count):\n",
    "    insert-into_videos=(\"\"\" INSERT INTO videos (video_id,video_title,view_count,like_count,favourite_count,comment_count)\n",
    "    VALUES(%s,%s,%s,%s,%s,%s,%s);\"\"\")\n",
    "    row_to_insert=(video_id,video_title,upload_date,view_count,like_count,favourite_count,comment_count)\n",
    "    curr.execute(insert_into_videos,row_to_insert)"
   ]
  },
  {
   "cell_type": "code",
   "execution_count": null,
   "id": "7ef3cdd3",
   "metadata": {},
   "outputs": [],
   "source": [
    "def append_from_df_to_db(curr,df):\n",
    "    for i,row in df.iterrows():\n",
    "        insert_into_table(curr,row['video_id'],row['video_title'],row['view_count'],row['like_count'],row['favourite_count'],row['comment_count'])"
   ]
  },
  {
   "cell_type": "code",
   "execution_count": null,
   "id": "83786f2d",
   "metadata": {},
   "outputs": [],
   "source": [
    "new_video_df=update_db(curr,df)"
   ]
  },
  {
   "cell_type": "code",
   "execution_count": null,
   "id": "0f8c093c",
   "metadata": {},
   "outputs": [],
   "source": [
    "append_from_df_to_db(curr,new_video_df)"
   ]
  },
  {
   "cell_type": "code",
   "execution_count": null,
   "id": "61b86326",
   "metadata": {},
   "outputs": [],
   "source": [
    "conn.commit()"
   ]
  }
 ],
 "metadata": {
  "kernelspec": {
   "display_name": "Python 3 (ipykernel)",
   "language": "python",
   "name": "python3"
  },
  "language_info": {
   "codemirror_mode": {
    "name": "ipython",
    "version": 3
   },
   "file_extension": ".py",
   "mimetype": "text/x-python",
   "name": "python",
   "nbconvert_exporter": "python",
   "pygments_lexer": "ipython3",
   "version": "3.9.13"
  }
 },
 "nbformat": 4,
 "nbformat_minor": 5
}
